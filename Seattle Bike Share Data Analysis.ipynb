{
 "cells": [
  {
   "cell_type": "markdown",
   "metadata": {},
   "source": [
    "# Seattle Bike Share Data Analysis"
   ]
  },
  {
   "cell_type": "markdown",
   "metadata": {},
   "source": [
    "This data comes from Seattle's Pronto Cycle Share system, which consists of 500 bikes and 54 stations located throughout the city. \n",
    "\n",
    "There are 3 datasets that provide data on the stations, trips, and weather from 2014-2016. This analysis focuses on the trips dataset."
   ]
  },
  {
   "cell_type": "code",
   "execution_count": 25,
   "metadata": {
    "collapsed": true
   },
   "outputs": [],
   "source": [
    "import pandas as pd\n",
    "import numpy as np\n",
    "import matplotlib.pyplot as plt\n",
    "%matplotlib inline"
   ]
  },
  {
   "cell_type": "code",
   "execution_count": 26,
   "metadata": {
    "collapsed": true
   },
   "outputs": [],
   "source": [
    "trips = '/Users/alexustian/Downloads/cycle-share-dataset/trip.csv'\n",
    "#'Skipping line 50793: expected 12 fields, saw 20\n",
    "df = pd.read_csv(trips, skiprows=[50793])"
   ]
  },
  {
   "cell_type": "markdown",
   "metadata": {},
   "source": [
    "##Rides Per Month - 2015"
   ]
  },
  {
   "cell_type": "code",
   "execution_count": 27,
   "metadata": {
    "collapsed": false
   },
   "outputs": [
    {
     "data": {
      "text/html": [
       "<div>\n",
       "<table border=\"1\" class=\"dataframe\">\n",
       "  <thead>\n",
       "    <tr style=\"text-align: right;\">\n",
       "      <th></th>\n",
       "      <th>trip_id</th>\n",
       "      <th>starttime</th>\n",
       "      <th>stoptime</th>\n",
       "      <th>bikeid</th>\n",
       "      <th>tripduration</th>\n",
       "      <th>from_station_name</th>\n",
       "      <th>to_station_name</th>\n",
       "      <th>from_station_id</th>\n",
       "      <th>to_station_id</th>\n",
       "      <th>usertype</th>\n",
       "      <th>gender</th>\n",
       "      <th>birthyear</th>\n",
       "    </tr>\n",
       "  </thead>\n",
       "  <tbody>\n",
       "    <tr>\n",
       "      <th>163148</th>\n",
       "      <td>124491</td>\n",
       "      <td>8/7/2015 17:53</td>\n",
       "      <td>8/8/2015 1:53</td>\n",
       "      <td>SEA00420</td>\n",
       "      <td>28794.398</td>\n",
       "      <td>Eastlake Ave E &amp; E Allison St</td>\n",
       "      <td>2nd Ave &amp; Pine St</td>\n",
       "      <td>EL-05</td>\n",
       "      <td>CBD-13</td>\n",
       "      <td>Short-Term Pass Holder</td>\n",
       "      <td>NaN</td>\n",
       "      <td>NaN</td>\n",
       "    </tr>\n",
       "    <tr>\n",
       "      <th>231806</th>\n",
       "      <td>197134</td>\n",
       "      <td>4/8/2016 14:25</td>\n",
       "      <td>4/8/2016 22:24</td>\n",
       "      <td>SEA00085</td>\n",
       "      <td>28779.864</td>\n",
       "      <td>3rd Ave &amp; Broad St</td>\n",
       "      <td>15th Ave E &amp; E Thomas St</td>\n",
       "      <td>BT-01</td>\n",
       "      <td>CH-05</td>\n",
       "      <td>Short-Term Pass Holder</td>\n",
       "      <td>NaN</td>\n",
       "      <td>NaN</td>\n",
       "    </tr>\n",
       "    <tr>\n",
       "      <th>154789</th>\n",
       "      <td>115593</td>\n",
       "      <td>7/24/2015 17:22</td>\n",
       "      <td>7/25/2015 1:21</td>\n",
       "      <td>SEA00098</td>\n",
       "      <td>28727.481</td>\n",
       "      <td>E Harrison St &amp; Broadway Ave E</td>\n",
       "      <td>E Harrison St &amp; Broadway Ave E</td>\n",
       "      <td>CH-02</td>\n",
       "      <td>CH-02</td>\n",
       "      <td>Short-Term Pass Holder</td>\n",
       "      <td>NaN</td>\n",
       "      <td>NaN</td>\n",
       "    </tr>\n",
       "    <tr>\n",
       "      <th>63052</th>\n",
       "      <td>15191</td>\n",
       "      <td>11/19/2014 9:23</td>\n",
       "      <td>11/19/2014 17:21</td>\n",
       "      <td>SEA00401</td>\n",
       "      <td>28690.725</td>\n",
       "      <td>Key Arena / 1st Ave N &amp; Harrison St</td>\n",
       "      <td>Key Arena / 1st Ave N &amp; Harrison St</td>\n",
       "      <td>SLU-19</td>\n",
       "      <td>SLU-19</td>\n",
       "      <td>Short-Term Pass Holder</td>\n",
       "      <td>NaN</td>\n",
       "      <td>NaN</td>\n",
       "    </tr>\n",
       "    <tr>\n",
       "      <th>12260</th>\n",
       "      <td>15191</td>\n",
       "      <td>11/19/2014 9:23</td>\n",
       "      <td>11/19/2014 17:21</td>\n",
       "      <td>SEA00401</td>\n",
       "      <td>28690.725</td>\n",
       "      <td>Key Arena / 1st Ave N &amp; Harrison St</td>\n",
       "      <td>Key Arena / 1st Ave N &amp; Harrison St</td>\n",
       "      <td>SLU-19</td>\n",
       "      <td>SLU-19</td>\n",
       "      <td>Short-Term Pass Holder</td>\n",
       "      <td>NaN</td>\n",
       "      <td>NaN</td>\n",
       "    </tr>\n",
       "  </tbody>\n",
       "</table>\n",
       "</div>"
      ],
      "text/plain": [
       "        trip_id        starttime          stoptime    bikeid  tripduration  \\\n",
       "163148   124491   8/7/2015 17:53     8/8/2015 1:53  SEA00420     28794.398   \n",
       "231806   197134   4/8/2016 14:25    4/8/2016 22:24  SEA00085     28779.864   \n",
       "154789   115593  7/24/2015 17:22    7/25/2015 1:21  SEA00098     28727.481   \n",
       "63052     15191  11/19/2014 9:23  11/19/2014 17:21  SEA00401     28690.725   \n",
       "12260     15191  11/19/2014 9:23  11/19/2014 17:21  SEA00401     28690.725   \n",
       "\n",
       "                          from_station_name  \\\n",
       "163148        Eastlake Ave E & E Allison St   \n",
       "231806                   3rd Ave & Broad St   \n",
       "154789       E Harrison St & Broadway Ave E   \n",
       "63052   Key Arena / 1st Ave N & Harrison St   \n",
       "12260   Key Arena / 1st Ave N & Harrison St   \n",
       "\n",
       "                            to_station_name from_station_id to_station_id  \\\n",
       "163148                    2nd Ave & Pine St           EL-05        CBD-13   \n",
       "231806             15th Ave E & E Thomas St           BT-01         CH-05   \n",
       "154789       E Harrison St & Broadway Ave E           CH-02         CH-02   \n",
       "63052   Key Arena / 1st Ave N & Harrison St          SLU-19        SLU-19   \n",
       "12260   Key Arena / 1st Ave N & Harrison St          SLU-19        SLU-19   \n",
       "\n",
       "                      usertype gender  birthyear  \n",
       "163148  Short-Term Pass Holder    NaN        NaN  \n",
       "231806  Short-Term Pass Holder    NaN        NaN  \n",
       "154789  Short-Term Pass Holder    NaN        NaN  \n",
       "63052   Short-Term Pass Holder    NaN        NaN  \n",
       "12260   Short-Term Pass Holder    NaN        NaN  "
      ]
     },
     "execution_count": 27,
     "metadata": {},
     "output_type": "execute_result"
    }
   ],
   "source": [
    "Sorted = df.sort_values(['tripduration'], ascending=False)\n",
    "Sorted.head(5)"
   ]
  },
  {
   "cell_type": "code",
   "execution_count": 28,
   "metadata": {
    "collapsed": false
   },
   "outputs": [
    {
     "data": {
      "text/plain": [
       "trip_id                int64\n",
       "starttime             object\n",
       "stoptime              object\n",
       "bikeid                object\n",
       "tripduration         float64\n",
       "from_station_name     object\n",
       "to_station_name       object\n",
       "from_station_id       object\n",
       "to_station_id         object\n",
       "usertype              object\n",
       "gender                object\n",
       "birthyear            float64\n",
       "dtype: object"
      ]
     },
     "execution_count": 28,
     "metadata": {},
     "output_type": "execute_result"
    }
   ],
   "source": [
    "df.dtypes"
   ]
  },
  {
   "cell_type": "code",
   "execution_count": 29,
   "metadata": {
    "collapsed": true
   },
   "outputs": [],
   "source": [
    "#Convert starttime and stoptime to datetime format\n",
    "df['starttime'] =  pd.to_datetime(df['starttime'], format='%m/%d/%Y %H:%M')\n",
    "df['stoptime'] =  pd.to_datetime(df['stoptime'], format='%m/%d/%Y %H:%M')"
   ]
  },
  {
   "cell_type": "code",
   "execution_count": 30,
   "metadata": {
    "collapsed": true
   },
   "outputs": [],
   "source": [
    "#Group trips by month\n",
    "monthly_trips = df['starttime'].groupby([df.starttime.dt.year, df.starttime.dt.month]).agg('count')"
   ]
  },
  {
   "cell_type": "code",
   "execution_count": 31,
   "metadata": {
    "collapsed": false
   },
   "outputs": [
    {
     "data": {
      "text/plain": [
       "<matplotlib.text.Text at 0x11a100610>"
      ]
     },
     "execution_count": 31,
     "metadata": {},
     "output_type": "execute_result"
    },
    {
     "data": {
      "image/png": "[encoded data removed]",
      "text/plain": [
       "<matplotlib.figure.Figure at 0x10c8a20d0>"
      ]
     },
     "metadata": {},
     "output_type": "display_data"
    }
   ],
   "source": [
    "#Graph monthly trips\n",
    "bar_graph = monthly_trips.plot(kind='bar', title=\"Total Rides per Month\")\n",
    "bar_graph.set_xlabel(\"Year, Month\")\n",
    "bar_graph.set_ylabel(\"Number of Rides\")"
   ]
  },
  {
   "cell_type": "code",
   "execution_count": 32,
   "metadata": {
    "collapsed": true
   },
   "outputs": [],
   "source": [
    "#Focus on data for a single year, 2015\n",
    "trips_2015 = df[df.starttime.dt.year == 2015]"
   ]
  },
  {
   "cell_type": "code",
   "execution_count": 33,
   "metadata": {
    "collapsed": false
   },
   "outputs": [],
   "source": [
    "#This could also be done as follows\n",
    "#df[(df.starttime > '2015-01-01')&(df.starttime < '2015-12-31')]"
   ]
  },
  {
   "cell_type": "code",
   "execution_count": 34,
   "metadata": {
    "collapsed": true
   },
   "outputs": [],
   "source": [
    "#Group trips by month\n",
    "monthly_trips_2015 = trips_2015['starttime'].groupby([trips_2015.starttime.dt.year, trips_2015.starttime.dt.month]).agg('count')"
   ]
  },
  {
   "cell_type": "code",
   "execution_count": 35,
   "metadata": {
    "collapsed": true
   },
   "outputs": [],
   "source": [
    "#Change the index to month names\n",
    "monthly_trips_2015.index = ['January', 'February', 'March', 'April', 'May', 'June', 'July', 'August', 'September', 'October', 'November', 'December']"
   ]
  },
  {
   "cell_type": "code",
   "execution_count": 36,
   "metadata": {
    "collapsed": false
   },
   "outputs": [
    {
     "data": {
      "text/plain": [
       "January      14736\n",
       "February     14660\n",
       "March        19960\n",
       "April        18773\n",
       "May          15548\n",
       "June         15999\n",
       "July         18808\n",
       "August       17046\n",
       "September    13134\n",
       "October      10605\n",
       "November      6541\n",
       "December      5049\n",
       "dtype: int64"
      ]
     },
     "execution_count": 36,
     "metadata": {},
     "output_type": "execute_result"
    }
   ],
   "source": [
    "monthly_trips_2015"
   ]
  },
  {
   "cell_type": "code",
   "execution_count": 42,
   "metadata": {
    "collapsed": false
   },
   "outputs": [
    {
     "data": {
      "text/plain": [
       "(250, 22000)"
      ]
     },
     "execution_count": 42,
     "metadata": {},
     "output_type": "execute_result"
    },
    {
     "data": {
      "image/png": "[encoded data removed]",
      "text/plain": [
       "<matplotlib.figure.Figure at 0x10a142a50>"
      ]
     },
     "metadata": {},
     "output_type": "display_data"
    }
   ],
   "source": [
    "#Graph 2015 rides\n",
    "graph_2015 = monthly_trips_2015.plot(kind='bar', title=\"Rides per Month\")\n",
    "graph_2015.set_xlabel(\"Month\")\n",
    "graph_2015.set_ylabel(\"Number of Rides\")\n",
    "axes = plt.gca()\n",
    "axes.set_ylim([250,22000])"
   ]
  },
  {
   "cell_type": "markdown",
   "metadata": {},
   "source": [
    "##Average Trip Duration per Month - 2015"
   ]
  },
  {
   "cell_type": "code",
   "execution_count": 38,
   "metadata": {
    "collapsed": true
   },
   "outputs": [],
   "source": [
    "#Find the average trip duration (in seconds) per month\n",
    "average_duration_2015 = trips_2015['tripduration'].groupby([trips_2015.starttime.dt.month]).mean()"
   ]
  },
  {
   "cell_type": "code",
   "execution_count": 39,
   "metadata": {
    "collapsed": true
   },
   "outputs": [],
   "source": [
    "#Change the indext to month names\n",
    "average_duration_2015.index = ['January', 'February', 'March', 'April', 'May', 'June', 'July', 'August', 'September', 'October', 'November', 'December']"
   ]
  },
  {
   "cell_type": "code",
   "execution_count": 40,
   "metadata": {
    "collapsed": false
   },
   "outputs": [
    {
     "data": {
      "text/plain": [
       "January       885.015497\n",
       "February     1118.058120\n",
       "March        1173.901884\n",
       "April        1216.011314\n",
       "May          1334.619687\n",
       "June         1326.595510\n",
       "July         1335.337431\n",
       "August       1299.487447\n",
       "September    1192.563013\n",
       "October       939.844421\n",
       "November      808.775577\n",
       "December      727.692705\n",
       "Name: tripduration, dtype: float64"
      ]
     },
     "execution_count": 40,
     "metadata": {},
     "output_type": "execute_result"
    }
   ],
   "source": [
    "average_duration_2015"
   ]
  },
  {
   "cell_type": "code",
   "execution_count": 41,
   "metadata": {
    "collapsed": false
   },
   "outputs": [
    {
     "data": {
      "text/plain": [
       "(200, 1600)"
      ]
     },
     "execution_count": 41,
     "metadata": {},
     "output_type": "execute_result"
    },
    {
     "data": {
      "image/png": "[encoded data removed]",
      "text/plain": [
       "<matplotlib.figure.Figure at 0x1073e2e90>"
      ]
     },
     "metadata": {},
     "output_type": "display_data"
    }
   ],
   "source": [
    "#Graph the average trip durations per month for 2015\n",
    "duration_graph = average_duration_2015.plot(kind='bar', title=\"Average Ride Duration per Month\")\n",
    "duration_graph.set_xlabel(\"Month\")\n",
    "duration_graph.set_ylabel(\"Average Duration (s)\")\n",
    "axes = plt.gca()\n",
    "axes.set_ylim([200,1600])"
   ]
  },
  {
   "cell_type": "code",
   "execution_count": null,
   "metadata": {
    "collapsed": true
   },
   "outputs": [],
   "source": []
  }
 ],
 "metadata": {
  "kernelspec": {
   "display_name": "Python 2",
   "language": "python",
   "name": "python2"
  },
  "language_info": {
   "codemirror_mode": {
    "name": "ipython",
    "version": 2
   },
   "file_extension": ".py",
   "mimetype": "text/x-python",
   "name": "python",
   "nbconvert_exporter": "python",
   "pygments_lexer": "ipython2",
   "version": "2.7.10"
  }
 },
 "nbformat": 4,
 "nbformat_minor": 0
}
